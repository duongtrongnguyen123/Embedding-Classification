{
 "cells": [
  {
   "cell_type": "code",
   "execution_count": 5,
   "id": "ee0bba00",
   "metadata": {},
   "outputs": [],
   "source": [
    "import pandas as pd\n",
    "import numpy as np \n",
    "import re\n",
    "from sklearn.feature_extraction.text import TfidfVectorizer\n",
    "from sklearn.linear_model import LogisticRegression\n",
    "from sklearn.metrics import classification_report, confusion_matrix\n",
    "from sklearn.pipeline import Pipeline\n",
    "from sklearn.metrics import precision_recall_curve, average_precision_score "
   ]
  },
  {
   "cell_type": "code",
   "execution_count": 3,
   "id": "f2a1dfb7",
   "metadata": {},
   "outputs": [],
   "source": [
    "def basic_clean(s : str) -> str:\n",
    "    s = s.lower()\n",
    "    s = re.sub(r\"<[^>]+>\", \" \", s)\n",
    "    s = re.sub(r\"https?://\\S+|www\\.\\S+\", \" \", s)\n",
    "    s = re.sub(r\"\\+?\\d[\\d\\-\\s]{6,}\\d\", \" \", s)\n",
    "    s = re.sub(r\"\\d+\", \" <num> \", s)\n",
    "    s = re.sub(r\"\\s+\", \" \", s).strip()\n",
    "    return s"
   ]
  },
  {
   "cell_type": "code",
   "execution_count": 4,
   "id": "ce915f7d",
   "metadata": {},
   "outputs": [],
   "source": [
    "def load_data(csv_path: str):\n",
    "    df = pd.read_csv(csv_path)\n",
    "    df = df.dropna(subset=[\"Body\", \"Label\"])\n",
    "    X = df[\"Body\"].tolist()\n",
    "    y = df[\"Label\"].to_numpy()\n",
    "    return X, y, df"
   ]
  },
  {
   "cell_type": "code",
   "execution_count": null,
   "id": "50554314",
   "metadata": {},
   "outputs": [],
   "source": [
    "def build_pipeline(mode = \"word\"):\n",
    "    if mode == \"word\":\n",
    "        tfidf = TfidfVectorizer(\n",
    "                lowercase = False,\n",
    "                ngram_range = (1, 2),\n",
    "                max_df = 0.95,\n",
    "                min_df = 2,\n",
    "                sublinear = True\n",
    "        )\n",
    "        clf = LogisticRegression(\n",
    "            max_iter=2000,\n",
    "            C=2.0,\n",
    "            class_weight=\"balanced\",\n",
    "            n_jobs=-1\n",
    "        )\n",
    "        return Pipeline([(\"tfidf\", tfidf)], [(\"clf\", clf)])\n",
    "    if mode == \"char\":\n",
    "        tfidf = TfidfVectorizer(\n",
    "            analyzer=\"char_wb\",\n",
    "            ngram_range = (3, 5),\n",
    "            max_df = 0.95,\n",
    "            min_df = 2,\n",
    "            sublinear = True\n",
    "        )\n",
    "        clf = LogisticRegression(\n",
    "            max_iter=2000,\n",
    "            C=2.0,\n",
    "            class_weight=\"balanced\",\n",
    "            n_jobs=-1\n",
    "        )\n",
    "        return Pipeline([(\"tfidf\", tfidf), (\"clf\", clf)])\n",
    "    else: raise ValueError(\"must be word or char\")\n"
   ]
  },
  {
   "cell_type": "code",
   "execution_count": null,
   "id": "e999ea35",
   "metadata": {},
   "outputs": [],
   "source": [
    "def evaluate(y_true, proba, thr=0.5, title=\"\"):\n",
    "    y_pred = (proba >= thr).astype(int)\n",
    "    print(classification_report(y_true, y_pred, digits=4))\n",
    "    print(\"Confusion matrix: \\n\", confusion_matrix(y_true, y_pred))\n",
    "    pr_auc = average_precision_score(y_true, proba)\n",
    "    print(\"PR-AUC: %.4f\" % pr_auc)\n",
    "\n",
    "    precision, recall, thresholds = precision_recall_curve(y_true, proba)\n",
    "    plt.figure()\n",
    "    plt.plot(recall, precision, label=f\"PR curve (AP={pr_auc:.3f})\")\n",
    "    plt.xlabel(\"Recall\")\n",
    "    plt.ylabel(\"Precision\")\n",
    "    plt.title(f\"Precision-Recall {title}\")\n",
    "    plt.legend()\n",
    "    plt.tight_layout()\n",
    "    plt.show()"
   ]
  },
  {
   "cell_type": "code",
   "execution_count": null,
   "id": "f83ddc72",
   "metadata": {},
   "outputs": [],
   "source": [
    "def main():\n",
    "    "
   ]
  }
 ],
 "metadata": {
  "kernelspec": {
   "display_name": "Python (ml-dl)",
   "language": "python",
   "name": "ml-dl"
  },
  "language_info": {
   "codemirror_mode": {
    "name": "ipython",
    "version": 3
   },
   "file_extension": ".py",
   "mimetype": "text/x-python",
   "name": "python",
   "nbconvert_exporter": "python",
   "pygments_lexer": "ipython3",
   "version": "3.11.13"
  }
 },
 "nbformat": 4,
 "nbformat_minor": 5
}
